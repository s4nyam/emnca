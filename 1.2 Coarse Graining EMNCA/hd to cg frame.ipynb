{
  "nbformat": 4,
  "nbformat_minor": 0,
  "metadata": {
    "colab": {
      "provenance": []
    },
    "kernelspec": {
      "name": "python3",
      "display_name": "Python 3"
    },
    "language_info": {
      "name": "python"
    }
  },
  "cells": [
    {
      "cell_type": "markdown",
      "source": [
        "#The coarse-graining mechanism used in this function works by dividing the input grid into non-overlapping blocks of pixels, and replacing each block with a single pixel that represents the average value of the block. The size of the blocks is determined by a scaling factor, which in this case is set to 2.\n",
        "\n",
        "Steps:\n",
        "1. Check that the number of rows and columns in the input grid are even numbers.\n",
        "2. Initialize an output grid of zeros with size equal to the input grid divided by the scaling factor in each dimension.\n",
        "3. For each block of pixels in the input grid, compute the mean value of the pixels in the block.\n",
        "4. Assign the mean value to the corresponding pixel in the output grid.\n",
        "5. Repeat step 3-4 for each block in the input grid.\n",
        "6. Return the output grid as the coarse-grained version of the input grid.\n",
        "\n",
        "Ref - https://arxiv.org/abs/2104.01008\n",
        "\n",
        "Visualizing computation in large-scale cellular automata\n",
        "Hugo Cisneros, Josef Sivic, Tomas Mikolov\n"
      ],
      "metadata": {
        "id": "kM3uu7_Fj4Zr"
      }
    },
    {
      "cell_type": "code",
      "execution_count": 8,
      "metadata": {
        "id": "QowHqMCRgRdP"
      },
      "outputs": [],
      "source": [
        "import numpy as np\n",
        "\n",
        "def coarse_grain(input_grid):\n",
        "    # Define the coarse-graining scale factor\n",
        "    scale_factor = 2\n",
        "    \n",
        "    # Determine the size of the input grid\n",
        "    n_rows, n_cols = input_grid.shape\n",
        "    \n",
        "    # Check that the input grid has an even number of rows and columns\n",
        "    assert n_rows % 2 == 0 and n_cols % 2 == 0, \"Input grid must have an even number of rows and columns\"\n",
        "    \n",
        "    # Determine the size of the output grid\n",
        "    out_n_rows, out_n_cols = n_rows // scale_factor, n_cols // scale_factor\n",
        "    \n",
        "    # Initialize the output grid\n",
        "    output_grid = np.zeros((out_n_rows, out_n_cols))\n",
        "    \n",
        "    # Apply the coarse-graining mechanism to each block of pixels in the input grid\n",
        "    for i in range(out_n_rows):\n",
        "        for j in range(out_n_cols):\n",
        "            block = input_grid[i*scale_factor:(i+1)*scale_factor, j*scale_factor:(j+1)*scale_factor]\n",
        "            output_grid[i, j] = np.mean(block)\n",
        "    \n",
        "    return output_grid\n"
      ]
    },
    {
      "cell_type": "code",
      "source": [
        "input_grid = np.random.rand(20, 20)"
      ],
      "metadata": {
        "id": "sRlBi6XzgUFS"
      },
      "execution_count": 9,
      "outputs": []
    },
    {
      "cell_type": "code",
      "source": [
        "import matplotlib.pyplot as plt\n",
        "plt.imshow(input_grid,cmap='binary')"
      ],
      "metadata": {
        "colab": {
          "base_uri": "https://localhost:8080/",
          "height": 282
        },
        "id": "YBiHQ5eFgV9C",
        "outputId": "1e93cf1e-6b41-4cb7-95c4-6aa84d5bd831"
      },
      "execution_count": 10,
      "outputs": [
        {
          "output_type": "execute_result",
          "data": {
            "text/plain": [
              "<matplotlib.image.AxesImage at 0x7f106f3881c0>"
            ]
          },
          "metadata": {},
          "execution_count": 10
        },
        {
          "output_type": "display_data",
          "data": {
            "text/plain": [
              "<Figure size 432x288 with 1 Axes>"
            ],
            "image/png": "[encoded data removed]"
          },
          "metadata": {
            "needs_background": "light"
          }
        }
      ]
    },
    {
      "cell_type": "code",
      "source": [
        "coarse_grained_grid = coarse_grain(input_grid)\n"
      ],
      "metadata": {
        "id": "Rba97N4UgbMp"
      },
      "execution_count": 11,
      "outputs": []
    },
    {
      "cell_type": "code",
      "source": [
        "import matplotlib.pyplot as plt\n",
        "plt.imshow(coarse_grained_grid,cmap='binary')"
      ],
      "metadata": {
        "colab": {
          "base_uri": "https://localhost:8080/",
          "height": 282
        },
        "id": "Ofje53vtgjJA",
        "outputId": "7760529b-4564-49b1-fb14-ce5221b6ecb5"
      },
      "execution_count": 12,
      "outputs": [
        {
          "output_type": "execute_result",
          "data": {
            "text/plain": [
              "<matplotlib.image.AxesImage at 0x7f106f313400>"
            ]
          },
          "metadata": {},
          "execution_count": 12
        },
        {
          "output_type": "display_data",
          "data": {
            "text/plain": [
              "<Figure size 432x288 with 1 Axes>"
            ],
            "image/png": "[encoded data removed]"
          },
          "metadata": {
            "needs_background": "light"
          }
        }
      ]
    },
    {
      "cell_type": "code",
      "source": [],
      "metadata": {
        "id": "0MOazpa4gk04"
      },
      "execution_count": 12,
      "outputs": []
    }
  ]
}