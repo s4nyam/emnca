{
  "nbformat": 4,
  "nbformat_minor": 0,
  "metadata": {
    "colab": {
      "provenance": []
    },
    "kernelspec": {
      "name": "python3",
      "display_name": "Python 3"
    },
    "language_info": {
      "name": "python"
    }
  },
  "cells": [
    {
      "cell_type": "code",
      "execution_count": 1,
      "metadata": {
        "colab": {
          "base_uri": "https://localhost:8080/"
        },
        "id": "irrn6hHs904W",
        "outputId": "de1b4edb-0e5d-4fde-920c-7f341c542734"
      },
      "outputs": [
        {
          "output_type": "stream",
          "name": "stdout",
          "text": [
            "--2023-03-31 14:50:46--  https://dl3.pushbulletusercontent.com/uUN2AiPUxxvqfJlWaWhbhNQdZVrprSBu/code.zip\n",
            "Resolving dl3.pushbulletusercontent.com (dl3.pushbulletusercontent.com)... 35.208.62.122\n",
            "Connecting to dl3.pushbulletusercontent.com (dl3.pushbulletusercontent.com)|35.208.62.122|:443... connected.\n",
            "HTTP request sent, awaiting response... 200 OK\n",
            "Length: 4934 (4.8K) [application/x-zip-compressed]\n",
            "Saving to: ‘code.zip’\n",
            "\n",
            "code.zip            100%[===================>]   4.82K  --.-KB/s    in 0.002s  \n",
            "\n",
            "2023-03-31 14:50:47 (2.79 MB/s) - ‘code.zip’ saved [4934/4934]\n",
            "\n",
            "Archive:  code.zip\n",
            "  inflating: EC.py                   \n",
            "  inflating: mnca.py                 \n",
            "  inflating: neighborhoods/mask_c1.txt  \n",
            "  inflating: neighborhoods/mask_c2.txt  \n",
            "  inflating: neighborhoods/mask_c3.txt  \n"
          ]
        }
      ],
      "source": [
        "!wget https://dl3.pushbulletusercontent.com/uUN2AiPUxxvqfJlWaWhbhNQdZVrprSBu/code.zip\n",
        "!unzip code.zip\n",
        "!rm EC.py\n",
        "!rm mnca.py"
      ]
    },
    {
      "cell_type": "code",
      "source": [
        "rule = [[(0.451, 0.713, 0), (0.449, 0.663, 1), (0.191, 0.52, 1), (0.089, 0.296, 0)], [(0.332, 0.51, 0), (0.084, 0.307, 0), (0.182, 0.465, 1)], [(0.799, 0.902, 0), (0.303, 0.456, 0), (0.835, 0.984, 1)]]\n",
        "\n",
        "# FOR EC - Results available here - https://github.com/s4nyam/emnca/blob/main/emnca/p10g50_1.ipynb\n",
        "\n"
      ],
      "metadata": {
        "id": "6PxQDwRe-DwI"
      },
      "execution_count": 2,
      "outputs": []
    },
    {
      "cell_type": "code",
      "source": [
        "\n",
        "import matplotlib.pyplot as plt\n",
        "import matplotlib.animation as animation\n",
        "\n",
        "import numpy as np\n",
        "\n",
        "def coarse_grain(input_grid):\n",
        "    # Define the coarse-graining scale factor\n",
        "    scale_factor = 8\n",
        "    \n",
        "    # Determine the size of the input grid\n",
        "    n_rows, n_cols = input_grid.shape\n",
        "    \n",
        "    # Check that the input grid has an even number of rows and columns\n",
        "    assert n_rows % 2 == 0 and n_cols % 2 == 0, \"Input grid must have an even number of rows and columns\"\n",
        "    \n",
        "    # Determine the size of the output grid\n",
        "    out_n_rows, out_n_cols = n_rows // scale_factor, n_cols // scale_factor\n",
        "    \n",
        "    # Initialize the output grid\n",
        "    output_grid = np.zeros((out_n_rows, out_n_cols))\n",
        "    \n",
        "    # Apply the coarse-graining mechanism to each block of pixels in the input grid\n",
        "    for i in range(out_n_rows):\n",
        "        for j in range(out_n_cols):\n",
        "            block = input_grid[i*scale_factor:(i+1)*scale_factor, j*scale_factor:(j+1)*scale_factor]\n",
        "            output_grid[i, j] = np.mean(block)\n",
        "    \n",
        "    return output_grid\n",
        "\n",
        "def init_board(width, height, init_state):\n",
        "    if init_state == \"single cell in center\":\n",
        "        board = np.zeros((height, width), dtype=np.int)\n",
        "        board[height//2, width//2] = 1\n",
        "    elif init_state == \"random cells with some probability\":\n",
        "        p = 0.250 # probability of a cell being alive\n",
        "        board = np.random.choice([0, 1], size=(height, width), p=[1-p, p])\n",
        "    elif init_state == \"random cells with 2 different states\":\n",
        "        p1 = 0.250 # probability of a cell being state 1\n",
        "        board = np.random.choice([0, 1, 2], size=(height, width), p=[1-p1, p1/2, p1/2])\n",
        "    else:\n",
        "        raise ValueError(\"Invalid initial state\")\n",
        "    return board\n",
        "\n",
        "\n",
        "def update(frame, img, board, neighborhoods, range_of_neighborhood_sums):\n",
        "    new_board = np.zeros_like(board, dtype=int)\n",
        "    height, width = board.shape\n",
        "    for i in range(height):\n",
        "        for j in range(width):\n",
        "            next_state = board[i, j]\n",
        "            for neighborhood, range_of_neighborhood_sum in zip(neighborhoods, range_of_neighborhood_sums):\n",
        "                cell_neighborhood = [board[(i + ni + height) % height, (j + nj + width) % width]\n",
        "                                     for ni, nj in neighborhood]\n",
        "                \n",
        "                # # use this for sum\n",
        "                # neighborhood_sum = sum(cell_neighborhood)\n",
        "                \n",
        "                # use this for average\n",
        "                neighborhood_sum = sum(cell_neighborhood)/len(cell_neighborhood)\n",
        "                for lower, upper, new_next_state in range_of_neighborhood_sum:\n",
        "                    if lower <= neighborhood_sum <= upper:\n",
        "                        next_state = new_next_state\n",
        "            new_board[i, j] = next_state\n",
        "    board[:] = new_board[:]\n",
        "    board = coarse_grain(board) # Adding coarse grained\n",
        "    img.set_data(board)\n",
        "    return img,\n",
        "\n",
        "def run_automaton(width, height, steps, init_state, filename, neighborhoods, range_of_neighborhood_sums):\n",
        "    board = init_board(width, height, init_state)\n",
        "    fig, ax = plt.subplots()\n",
        "    plt.axis('off')\n",
        "    img = ax.imshow(board, cmap='gist_earth')\n",
        "    ani = animation.FuncAnimation(fig, update, frames=steps, fargs=(img, board, neighborhoods, range_of_neighborhood_sums), repeat=False)\n",
        "    # ani.save(filename, dpi=80, writer='imagemagick')\n",
        "    ani.save(filename, dpi=200, writer='ffmpeg', codec='h264')\n",
        "\n",
        "\n",
        "\n",
        "def extract_neighborhood_from_file(file_name):\n",
        "    with open(file_name, \"r\") as f:\n",
        "        lines = f.readlines()\n",
        "        neighborhood = []\n",
        "        for i, line in enumerate(lines):\n",
        "            line = line.strip()\n",
        "            for j, value in enumerate(line.split(\" \")):\n",
        "                if value == \"1\":\n",
        "                    neighborhood.append((i-1, j-1))\n",
        "        return neighborhood\n",
        "\n",
        "\n",
        "width = 500\n",
        "height = 350\n",
        "steps = 100\n",
        "init_state = \"random cells with some probability\"\n",
        "\n",
        "\n",
        "\n",
        "\n",
        "nh1 = extract_neighborhood_from_file('neighborhoods/mask_c1.txt')\n",
        "nh2 = extract_neighborhood_from_file('neighborhoods/mask_c2.txt')\n",
        "nh3 = extract_neighborhood_from_file('neighborhoods/mask_c3.txt')\n",
        "neighborhoods = [nh1,nh2,nh3]\n",
        "range_of_neighborhood_sums=rule\n",
        "\n",
        "\n",
        "\n",
        "filename = \"cellular_automaton_\"+str(range_of_neighborhood_sums)[0:16]+\".mp4\"\n",
        "run_automaton(width, height, steps, init_state, filename, neighborhoods, range_of_neighborhood_sums)\n"
      ],
      "metadata": {
        "id": "wIcTCYU_-IiO",
        "colab": {
          "base_uri": "https://localhost:8080/",
          "height": 384
        },
        "outputId": "66ddb695-927a-4f6d-c2c2-d85bf6759091"
      },
      "execution_count": 3,
      "outputs": [
        {
          "output_type": "display_data",
          "data": {
            "text/plain": [
              "<Figure size 640x480 with 1 Axes>"
            ],
            "image/png": "[encoded data removed]"
          },
          "metadata": {}
        }
      ]
    },
    {
      "cell_type": "code",
      "source": [],
      "metadata": {
        "id": "GjJ5ri85-6w7"
      },
      "execution_count": 3,
      "outputs": []
    }
  ]
}