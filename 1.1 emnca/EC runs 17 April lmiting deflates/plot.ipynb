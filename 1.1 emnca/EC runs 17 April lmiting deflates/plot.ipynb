{
 "cells": [
  {
   "cell_type": "code",
   "execution_count": 1,
   "metadata": {},
   "outputs": [],
   "source": [
    "import matplotlib.pyplot as plt"
   ]
  },
  {
   "cell_type": "code",
   "execution_count": 2,
   "metadata": {},
   "outputs": [],
   "source": [
    "import os\n",
    "import glob\n",
    "import pandas as pd\n",
    "import matplotlib.pyplot as plt\n",
    "\n",
    "# Get all CSV files in the current directory\n",
    "csv_files = glob.glob(\"*.csv\")\n",
    "\n",
    "# Loop over each CSV file\n",
    "for file in csv_files:\n",
    "    # Read the CSV file into a Pandas DataFrame\n",
    "    df = pd.read_csv(file)\n",
    "    \n",
    "    # Get the column names in the DataFrame\n",
    "    columns = df.columns\n",
    "    \n",
    "    # Assume that we want to plot the first column\n",
    "    column_to_plot = columns[0]\n",
    "    \n",
    "    # Extract the data for the column to plot\n",
    "    data_to_plot = df[column_to_plot]\n",
    "    \n",
    "    # Set up the plot\n",
    "    fig, ax = plt.subplots()\n",
    "    \n",
    "    # Plot the data\n",
    "    ax.plot(data_to_plot)\n",
    "    \n",
    "    # Set the title of the plot to be the name of the CSV file\n",
    "    ax.set_title(os.path.splitext(file)[0])\n",
    "    \n",
    "    # Save the plot as a PNG file with the same name as the CSV file\n",
    "    fig.savefig(os.path.splitext(file)[0] + \".png\")\n",
    "    \n",
    "    # Close the plot\n",
    "    plt.close(fig)\n"
   ]
  },
  {
   "cell_type": "code",
   "execution_count": null,
   "metadata": {},
   "outputs": [],
   "source": []
  }
 ],
 "metadata": {
  "interpreter": {
   "hash": "aee8b7b246df8f9039afb4144a1f6fd8d2ca17a180786b69acc140d282b71a49"
  },
  "kernelspec": {
   "display_name": "Python 3.10.8 64-bit",
   "language": "python",
   "name": "python3"
  },
  "language_info": {
   "codemirror_mode": {
    "name": "ipython",
    "version": 3
   },
   "file_extension": ".py",
   "mimetype": "text/x-python",
   "name": "python",
   "nbconvert_exporter": "python",
   "pygments_lexer": "ipython3",
   "version": "3.10.8"
  },
  "orig_nbformat": 4
 },
 "nbformat": 4,
 "nbformat_minor": 2
}
