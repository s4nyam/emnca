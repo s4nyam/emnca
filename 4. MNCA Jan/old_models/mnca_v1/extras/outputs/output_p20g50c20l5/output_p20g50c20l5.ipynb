{
  "nbformat": 4,
  "nbformat_minor": 0,
  "metadata": {
    "colab": {
      "provenance": []
    },
    "kernelspec": {
      "name": "python3",
      "display_name": "Python 3"
    },
    "language_info": {
      "name": "python"
    }
  },
  "cells": [
    {
      "cell_type": "code",
      "execution_count": 1,
      "metadata": {
        "colab": {
          "base_uri": "https://localhost:8080/"
        },
        "id": "1QawIKGd9ioZ",
        "outputId": "13714dea-4656-4bc7-d3ed-42c6980fe76d"
      },
      "outputs": [
        {
          "output_type": "stream",
          "name": "stdout",
          "text": [
            "Looking in indexes: https://pypi.org/simple, https://us-python.pkg.dev/colab-wheels/public/simple/\n",
            "Collecting deflate\n",
            "  Downloading deflate-0.3.0-cp38-cp38-manylinux2010_x86_64.whl (167 kB)\n",
            "\u001b[2K     \u001b[90m━━━━━━━━━━━━━━━━━━━━━━━━━━━━━━━━━━━━━━━\u001b[0m \u001b[32m167.2/167.2 KB\u001b[0m \u001b[31m4.9 MB/s\u001b[0m eta \u001b[36m0:00:00\u001b[0m\n",
            "\u001b[?25hInstalling collected packages: deflate\n",
            "Successfully installed deflate-0.3.0\n"
          ]
        }
      ],
      "source": [
        "!pip install deflate"
      ]
    },
    {
      "cell_type": "code",
      "source": [
        "!python EC.py 20 50 20 5"
      ],
      "metadata": {
        "colab": {
          "base_uri": "https://localhost:8080/"
        },
        "id": "RZgPEKua91L-",
        "outputId": "df6fcd65-b943-45a3-a12f-000c16366eab"
      },
      "execution_count": 2,
      "outputs": [
        {
          "output_type": "stream",
          "name": "stdout",
          "text": [
            "Generation >0, new best Born and Survive f([[5, 4, 3, 5], [8, 2, 8, 2, 7, 7]]) = 22557.000\n",
            "Generation >0, new best Born and Survive f([[2, 6, 2, 4], [2, 5, 2, 7, 7, 6, 5, 1]]) = 35871.000\n",
            "Generation >0, new best Born and Survive f([[6, 5, 4, 7], [2, 1, 8, 3]]) = 46103.000\n",
            "Generation >0, new best Born and Survive f([[2, 3, 1, 4, 7], [8, 4, 2, 6, 5, 6]]) = 56538.000\n",
            "Generation >0, new best Born and Survive f([[8, 3, 4, 3], [6, 5, 7, 1, 3]]) = 67054.000\n",
            "Generation >1, new best Born and Survive f([[7, 5, 2, 4], [1, 3, 3, 5, 5, 2, 7, 6]]) = 287352.000\n",
            "Generation >1, new best Born and Survive f([[6, 8, 1, 5], [5, 5, 6, 6, 3, 8]]) = 297614.000\n",
            "Generation >1, new best Born and Survive f([[7, 5, 2, 4], [1, 3, 3, 5, 5, 2, 7, 6]]) = 309376.000\n",
            "Generation >1, new best Born and Survive f([[6, 8, 1, 5], [5, 5, 6, 6, 3, 8]]) = 319614.000\n",
            "Generation >1, new best Born and Survive f([[7, 5, 2, 4], [1, 3, 3, 5, 5, 2, 7, 6]]) = 331366.000\n",
            "Generation >2, new best Born and Survive f([[6, 4, 8, 3], [1, 5, 6, 8, 2, 5, 7, 3]]) = 507308.000\n",
            "Generation >2, new best Born and Survive f([[7, 8, 2, 2], [5, 6, 2, 2, 6, 7]]) = 518028.000\n",
            "Generation >2, new best Born and Survive f([[6, 4, 8, 3], [1, 5, 6, 8, 2, 5, 7, 3]]) = 529092.000\n",
            "Generation >2, new best Born and Survive f([[7, 8, 2, 2], [5, 6, 2, 2, 6, 7]]) = 539813.000\n",
            "Generation >2, new best Born and Survive f([[6, 4, 8, 3], [1, 5, 6, 8, 2, 5, 7, 3]]) = 550877.000\n",
            "Generation >3, new best Born and Survive f([[7, 1, 1, 7], [1, 3, 3, 1, 5, 3, 1, 3]]) = 790778.000\n",
            "Generation >3, new best Born and Survive f([[6, 1, 1, 5], [5, 5, 7, 6, 6, 1]]) = 802584.000\n",
            "Generation >3, new best Born and Survive f([[7, 1, 1, 7], [1, 3, 3, 1, 5, 3, 1, 3]]) = 879338.000\n",
            "Generation >3, new best Born and Survive f([[6, 1, 1, 5], [5, 5, 7, 6, 6, 1]]) = 891239.000\n",
            "Generation >3, new best Born and Survive f([[7, 1, 1, 7], [1, 3, 3, 1, 5, 3, 1, 3]]) = 968071.000\n",
            "Generation >4, new best Born and Survive f([[6, 3, 5, 4], [1, 1, 8, 5, 4, 3, 1, 4]]) = 1615912.000\n",
            "Generation >4, new best Born and Survive f([[7, 5, 6, 4], [5, 6, 5, 6, 7, 1]]) = 1629793.000\n",
            "Generation >4, new best Born and Survive f([[6, 3, 5, 4], [1, 1, 8, 5, 4, 3, 1, 4]]) = 1642673.000\n",
            "Generation >4, new best Born and Survive f([[7, 5, 6, 4], [5, 6, 5, 6, 7, 1]]) = 1656535.000\n",
            "Generation >4, new best Born and Survive f([[6, 3, 5, 4], [1, 1, 8, 5, 4, 3, 1, 4]]) = 1669386.000\n",
            "Generation >5, new best Born and Survive f([[7, 6, 1, 5], [1, 3, 2, 1, 8, 3, 2, 8]]) = 1880816.000\n",
            "Generation >5, new best Born and Survive f([[6, 1, 5, 5], [5, 5, 4, 4, 4, 4]]) = 1894630.000\n",
            "Generation >5, new best Born and Survive f([[7, 6, 1, 5], [1, 3, 2, 1, 8, 3, 2, 8]]) = 1905260.000\n",
            "Generation >5, new best Born and Survive f([[6, 1, 5, 5], [5, 5, 4, 4, 4, 4]]) = 1919061.000\n",
            "Generation >5, new best Born and Survive f([[7, 6, 1, 5], [1, 3, 2, 1, 8, 3, 2, 8]]) = 1929672.000\n",
            "Generation >6, new best Born and Survive f([[6, 1, 2, 5], [1, 8, 3, 6, 2, 8, 3, 2]]) = 2140801.000\n",
            "Generation >6, new best Born and Survive f([[7, 6, 1, 5], [5, 5, 7, 4, 4, 4]]) = 2154373.000\n",
            "Generation >6, new best Born and Survive f([[6, 1, 2, 5], [1, 8, 3, 6, 2, 8, 3, 2]]) = 2180976.000\n",
            "Generation >6, new best Born and Survive f([[7, 6, 1, 5], [5, 5, 7, 4, 4, 4]]) = 2194615.000\n",
            "Generation >6, new best Born and Survive f([[6, 1, 2, 5], [1, 8, 3, 6, 2, 8, 3, 2]]) = 2221268.000\n",
            "Generation >7, new best Born and Survive f([[7, 7, 6, 1], [1, 4, 2, 7, 8, 3, 3, 3]]) = 2530002.000\n",
            "Generation >7, new best Born and Survive f([[6, 5, 1, 8], [5, 3, 3, 4, 3, 7]]) = 2540244.000\n",
            "Generation >7, new best Born and Survive f([[7, 7, 6, 1], [1, 4, 2, 7, 8, 3, 3, 3]]) = 2552142.000\n",
            "Generation >7, new best Born and Survive f([[6, 5, 1, 8], [5, 3, 3, 4, 3, 7]]) = 2562377.000\n",
            "Generation >7, new best Born and Survive f([[7, 7, 6, 1], [1, 4, 2, 7, 8, 3, 3, 3]]) = 2574266.000\n",
            "Generation >8, new best Born and Survive f([[6, 6, 2, 5], [1, 1, 6, 7, 4, 1, 3, 6]]) = 2752737.000\n",
            "Generation >8, new best Born and Survive f([[7, 5, 8, 7], [5, 2, 1, 3, 3, 5]]) = 2762997.000\n",
            "Generation >8, new best Born and Survive f([[6, 6, 2, 5], [1, 1, 6, 7, 4, 1, 3, 6]]) = 2776504.000\n",
            "Generation >8, new best Born and Survive f([[7, 5, 8, 7], [5, 2, 1, 3, 3, 5]]) = 2786743.000\n",
            "Generation >8, new best Born and Survive f([[6, 6, 2, 5], [1, 1, 6, 7, 4, 1, 3, 6]]) = 2800234.000\n",
            "Generation >9, new best Born and Survive f([[7, 8, 5, 8], [1, 5, 4, 2, 5, 1, 7, 5]]) = 2987193.000\n",
            "Generation >9, new best Born and Survive f([[6, 4, 7, 5], [5, 6, 1, 4, 3, 6]]) = 3000252.000\n",
            "Generation >9, new best Born and Survive f([[7, 8, 5, 8], [1, 5, 4, 2, 5, 1, 7, 5]]) = 3010728.000\n",
            "Generation >9, new best Born and Survive f([[6, 4, 7, 5], [5, 6, 1, 4, 3, 6]]) = 3023814.000\n",
            "Generation >9, new best Born and Survive f([[7, 8, 5, 8], [1, 5, 4, 2, 5, 1, 7, 5]]) = 3034306.000\n",
            "Generation >10, new best Born and Survive f([[6, 2, 2, 4], [1, 6, 2, 4, 1, 4, 4, 2]]) = 3323994.000\n",
            "Generation >10, new best Born and Survive f([[7, 7, 6, 2], [5, 2, 6, 1, 7, 4]]) = 3337967.000\n",
            "Generation >10, new best Born and Survive f([[6, 2, 2, 4], [1, 6, 2, 4, 1, 4, 4, 2]]) = 3449430.000\n",
            "Generation >10, new best Born and Survive f([[7, 7, 6, 2], [5, 2, 6, 1, 7, 4]]) = 3463136.000\n",
            "Generation >10, new best Born and Survive f([[6, 2, 2, 4], [1, 6, 2, 4, 1, 4, 4, 2]]) = 3574365.000\n",
            "Generation >11, new best Born and Survive f([[7, 5, 7, 5], [1, 3, 2, 7, 8, 5, 6, 2]]) = 4476082.000\n",
            "Generation >11, new best Born and Survive f([[6, 7, 8, 5], [5, 5, 5, 6, 6, 1]]) = 4487169.000\n",
            "Generation >11, new best Born and Survive f([[7, 5, 7, 5], [1, 3, 2, 7, 8, 5, 6, 2]]) = 4497373.000\n",
            "Generation >11, new best Born and Survive f([[6, 7, 8, 5], [5, 5, 5, 6, 6, 1]]) = 4508459.000\n",
            "Generation >11, new best Born and Survive f([[7, 5, 7, 5], [1, 3, 2, 7, 8, 5, 6, 2]]) = 4518663.000\n",
            "Generation >12, new best Born and Survive f([[6, 1, 4, 5], [1, 3, 8, 5, 8, 7, 7, 8]]) = 4688994.000\n",
            "Generation >12, new best Born and Survive f([[7, 3, 8, 8], [5, 8, 2, 8, 4, 8]]) = 4701820.000\n",
            "Generation >12, new best Born and Survive f([[6, 1, 4, 5], [1, 3, 8, 5, 8, 7, 7, 8]]) = 4712056.000\n",
            "Generation >12, new best Born and Survive f([[7, 3, 8, 8], [5, 8, 2, 8, 4, 8]]) = 4724874.000\n",
            "Generation >12, new best Born and Survive f([[6, 1, 4, 5], [1, 3, 8, 5, 8, 7, 7, 8]]) = 4735102.000\n",
            "Generation >13, new best Born and Survive f([[7, 6, 1, 5], [1, 8, 8, 8, 5, 4, 4, 1]]) = 4919724.000\n",
            "Generation >13, new best Born and Survive f([[6, 5, 4, 1], [5, 1, 4, 5, 2, 6]]) = 4931631.000\n",
            "Generation >13, new best Born and Survive f([[7, 6, 1, 5], [1, 8, 8, 8, 5, 4, 4, 1]]) = 4942244.000\n",
            "Generation >13, new best Born and Survive f([[6, 5, 4, 1], [5, 1, 4, 5, 2, 6]]) = 4954158.000\n",
            "Generation >13, new best Born and Survive f([[7, 6, 1, 5], [1, 8, 8, 8, 5, 4, 4, 1]]) = 4964778.000\n",
            "Generation >14, new best Born and Survive f([[6, 4, 6, 6], [1, 8, 8, 5, 7, 4, 6, 8]]) = 5144746.000\n",
            "Generation >14, new best Born and Survive f([[7, 3, 3, 8], [5, 1, 3, 8, 3, 8]]) = 5159610.000\n",
            "Generation >14, new best Born and Survive f([[6, 4, 6, 6], [1, 8, 8, 5, 7, 4, 6, 8]]) = 5170064.000\n",
            "Generation >14, new best Born and Survive f([[7, 3, 3, 8], [5, 1, 3, 8, 3, 8]]) = 5184930.000\n",
            "Generation >14, new best Born and Survive f([[6, 4, 6, 6], [1, 8, 8, 5, 7, 4, 6, 8]]) = 5195389.000\n",
            "Generation >15, new best Born and Survive f([[7, 2, 3, 6], [1, 4, 5, 7, 3, 8, 1, 7]]) = 5399167.000\n",
            "Generation >15, new best Born and Survive f([[6, 1, 8, 5], [5, 1, 7, 1, 8, 4]]) = 5409791.000\n",
            "Generation >15, new best Born and Survive f([[7, 2, 3, 6], [1, 4, 5, 7, 3, 8, 1, 7]]) = 5420967.000\n",
            "Generation >15, new best Born and Survive f([[6, 1, 8, 5], [5, 1, 7, 1, 8, 4]]) = 5431583.000\n",
            "Generation >15, new best Born and Survive f([[7, 2, 3, 6], [1, 4, 5, 7, 3, 8, 1, 7]]) = 5442752.000\n",
            "Generation >16, new best Born and Survive f([[6, 4, 1, 3], [1, 2, 8, 8, 1, 2, 1, 1]]) = 5660663.000\n",
            "Generation >16, new best Born and Survive f([[7, 7, 1, 2], [5, 6, 4, 5, 1, 4]]) = 5674478.000\n",
            "Generation >16, new best Born and Survive f([[6, 4, 1, 3], [1, 2, 8, 8, 1, 2, 1, 1]]) = 5729792.000\n",
            "Generation >16, new best Born and Survive f([[7, 7, 1, 2], [5, 6, 4, 5, 1, 4]]) = 5743631.000\n",
            "Generation >16, new best Born and Survive f([[6, 4, 1, 3], [1, 2, 8, 8, 1, 2, 1, 1]]) = 5798999.000\n",
            "Generation >17, new best Born and Survive f([[7, 1, 4, 5], [1, 1, 1, 7, 5, 3, 5, 2]]) = 6409024.000\n",
            "Generation >17, new best Born and Survive f([[6, 2, 8, 7], [5, 2, 6, 8, 7, 5]]) = 6419789.000\n",
            "Generation >17, new best Born and Survive f([[7, 1, 4, 5], [1, 1, 1, 7, 5, 3, 5, 2]]) = 6530143.000\n",
            "Generation >17, new best Born and Survive f([[6, 2, 8, 7], [5, 2, 6, 8, 7, 5]]) = 6541124.000\n",
            "Generation >17, new best Born and Survive f([[7, 1, 4, 5], [1, 1, 1, 7, 5, 3, 5, 2]]) = 6651602.000\n",
            "Generation >18, new best Born and Survive f([[6, 4, 8, 1], [1, 3, 3, 7, 3, 5, 4, 4]]) = 7528172.000\n",
            "Generation >18, new best Born and Survive f([[7, 6, 1, 3], [5, 1, 2, 3, 1, 3]]) = 7541569.000\n",
            "Generation >18, new best Born and Survive f([[6, 4, 8, 1], [1, 3, 3, 7, 3, 5, 4, 4]]) = 7551885.000\n",
            "Generation >18, new best Born and Survive f([[7, 6, 1, 3], [5, 1, 2, 3, 1, 3]]) = 7565262.000\n",
            "Generation >18, new best Born and Survive f([[6, 4, 8, 1], [1, 3, 3, 7, 3, 5, 4, 4]]) = 7575544.000\n",
            "Generation >19, new best Born and Survive f([[7, 5, 3, 1], [1, 2, 1, 8, 8, 8, 2, 1]]) = 7766741.000\n",
            "Generation >19, new best Born and Survive f([[6, 1, 7, 6], [5, 4, 5, 8, 7, 1]]) = 7777325.000\n",
            "Generation >19, new best Born and Survive f([[7, 5, 3, 1], [1, 2, 1, 8, 8, 8, 2, 1]]) = 7789945.000\n",
            "Generation >19, new best Born and Survive f([[6, 1, 7, 6], [5, 4, 5, 8, 7, 1]]) = 7800514.000\n",
            "Generation >19, new best Born and Survive f([[7, 5, 3, 1], [1, 2, 1, 8, 8, 8, 2, 1]]) = 7813145.000\n",
            "^C\n"
          ]
        }
      ]
    },
    {
      "cell_type": "code",
      "source": [],
      "metadata": {
        "id": "l75DjZB29-pw"
      },
      "execution_count": null,
      "outputs": []
    }
  ]
}