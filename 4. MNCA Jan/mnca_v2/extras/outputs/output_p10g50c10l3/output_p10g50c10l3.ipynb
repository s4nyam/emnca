{
 "cells": [
  {
   "cell_type": "code",
   "execution_count": 1,
   "metadata": {
    "colab": {
     "base_uri": "https://localhost:8080/"
    },
    "id": "BcVUniiyxJKD",
    "outputId": "b48a9bc7-c6bb-4560-c00f-481a7c99a811"
   },
   "outputs": [
    {
     "name": "stdout",
     "output_type": "stream",
     "text": [
      "Looking in indexes: https://pypi.org/simple, https://us-python.pkg.dev/colab-wheels/public/simple/\n",
      "Collecting deflate\n",
      "  Downloading deflate-0.3.0-cp38-cp38-manylinux2010_x86_64.whl (167 kB)\n",
      "\u001b[2K     \u001b[90m━━━━━━━━━━━━━━━━━━━━━━━━━━━━━━━━━━━━━━━\u001b[0m \u001b[32m167.2/167.2 KB\u001b[0m \u001b[31m4.0 MB/s\u001b[0m eta \u001b[36m0:00:00\u001b[0m\n",
      "\u001b[?25hInstalling collected packages: deflate\n",
      "Successfully installed deflate-0.3.0\n"
     ]
    }
   ],
   "source": [
    "!pip install deflate\n"
   ]
  },
  {
   "cell_type": "code",
   "execution_count": 2,
   "metadata": {
    "colab": {
     "base_uri": "https://localhost:8080/"
    },
    "id": "WBe-XRPdxoCO",
    "outputId": "658e6b65-aff0-43e7-a37a-5d6205def391"
   },
   "outputs": [
    {
     "name": "stdout",
     "output_type": "stream",
     "text": [
      "Generation >0, new best Born and Survive f([[7], [8, 7, 7, 2]]) = 21158.000\n",
      "Generation >0, new best Born and Survive f([[8, 1, 7, 2, 1, 7, 3], [8, 7]]) = 32213.000\n",
      "Generation >0, new best Born and Survive f([[4, 4, 2, 2], [3]]) = 45600.000\n",
      "Generation >1, new best Born and Survive f([[3, 5, 8, 2, 3, 6, 7], [3, 6, 6, 6, 2, 5]]) = 154183.000\n",
      "Generation >1, new best Born and Survive f([[6, 3, 6], [3, 6, 3]]) = 168399.000\n",
      "Generation >1, new best Born and Survive f([[3, 5, 8, 2, 3, 6, 7], [3, 6, 6, 6, 2, 5]]) = 180023.000\n",
      "Generation >2, new best Born and Survive f([[6, 5, 1], [3, 1, 7, 5, 1, 8]]) = 282075.000\n",
      "Generation >2, new best Born and Survive f([[3, 2, 8, 1, 2, 2, 5], [3, 5, 8]]) = 296228.000\n",
      "Generation >2, new best Born and Survive f([[6, 5, 1], [3, 1, 7, 5, 1, 8]]) = 306494.000\n",
      "Generation >3, new best Born and Survive f([[3, 6, 6, 7, 1, 5, 2], [3, 1, 8, 7, 1, 2]]) = 404806.000\n",
      "Generation >3, new best Born and Survive f([[6, 6, 7], [3, 2, 3]]) = 415402.000\n",
      "Generation >3, new best Born and Survive f([[3, 6, 6, 7, 1, 5, 2], [3, 1, 8, 7, 1, 2]]) = 426477.000\n",
      "Generation >4, new best Born and Survive f([[6, 6, 6], [3, 1, 7, 5, 8, 2]]) = 512329.000\n",
      "Generation >4, new best Born and Survive f([[3, 6, 3, 4, 5, 7, 5], [3, 6, 4]]) = 524025.000\n",
      "Generation >4, new best Born and Survive f([[6, 6, 6], [3, 1, 7, 5, 8, 2]]) = 534306.000\n",
      "Generation >5, new best Born and Survive f([[3, 5, 3, 4, 8, 7, 8], [3, 3, 2, 2, 6, 1]]) = 622565.000\n",
      "Generation >5, new best Born and Survive f([[6, 2, 4], [3, 5, 6]]) = 635128.000\n",
      "Generation >5, new best Born and Survive f([[3, 5, 3, 4, 8, 7, 8], [3, 3, 2, 2, 6, 1]]) = 645598.000\n",
      "Generation >6, new best Born and Survive f([[6, 6, 7], [3, 3, 1, 3, 6, 8]]) = 738539.000\n",
      "Generation >6, new best Born and Survive f([[3, 5, 1, 6, 7, 7, 7], [3, 3, 5]]) = 752141.000\n",
      "Generation >6, new best Born and Survive f([[6, 6, 7], [3, 3, 1, 3, 6, 8]]) = 763534.000\n",
      "Generation >7, new best Born and Survive f([[3, 2, 8, 1, 5, 8, 5], [3, 8, 2, 8, 6, 1]]) = 863075.000\n",
      "Generation >7, new best Born and Survive f([[6, 4, 6], [3, 3, 7]]) = 875129.000\n",
      "Generation >7, new best Born and Survive f([[3, 2, 8, 1, 5, 8, 5], [3, 8, 2, 8, 6, 1]]) = 886163.000\n",
      "Generation >8, new best Born and Survive f([[6, 4, 4], [3, 6, 3, 7, 2, 8]]) = 979223.000\n",
      "Generation >8, new best Born and Survive f([[3, 6, 3, 1, 1, 4, 1], [3, 2, 2]]) = 1091288.000\n",
      "Generation >8, new best Born and Survive f([[6, 4, 4], [3, 6, 3, 7, 2, 8]]) = 1103772.000\n",
      "Generation >9, new best Born and Survive f([[3, 7, 1, 8, 3, 4, 5], [3, 3, 5, 8, 6, 5]]) = 1600026.000\n",
      "Generation >9, new best Born and Survive f([[6, 3, 1], [3, 1, 1]]) = 1613420.000\n",
      "Generation >9, new best Born and Survive f([[3, 7, 1, 8, 3, 4, 5], [3, 3, 5, 8, 6, 5]]) = 1623841.000\n",
      "Generation >10, new best Born and Survive f([[6, 5, 7], [3, 6, 2, 7, 5, 2]]) = 1720867.000\n",
      "Generation >10, new best Born and Survive f([[3, 3, 6, 6, 5, 7, 2], [3, 1, 8]]) = 1732445.000\n",
      "Generation >10, new best Born and Survive f([[6, 5, 7], [3, 6, 2, 7, 5, 2]]) = 1744707.000\n",
      "Generation >11, new best Born and Survive f([[3, 3, 2, 4, 6, 8, 7], [3, 7, 6, 1, 2, 6]]) = 1840099.000\n",
      "Generation >11, new best Born and Survive f([[6, 2, 4], [3, 4, 5]]) = 1852722.000\n",
      "Generation >11, new best Born and Survive f([[3, 3, 2, 4, 6, 8, 7], [3, 7, 6, 1, 2, 6]]) = 1865085.000\n",
      "Generation >12, new best Born and Survive f([[6, 2, 1], [3, 8, 1, 6, 8, 1]]) = 1963219.000\n",
      "Generation >12, new best Born and Survive f([[3, 7, 5, 6, 4, 4, 8], [3, 1, 8]]) = 1973492.000\n",
      "Generation >12, new best Born and Survive f([[6, 2, 1], [3, 8, 1, 6, 8, 1]]) = 1983935.000\n",
      "Generation >13, new best Born and Survive f([[3, 6, 1, 4, 8, 7, 2], [3, 1, 6, 3, 6, 2]]) = 2068622.000\n",
      "Generation >13, new best Born and Survive f([[6, 7, 3], [3, 1, 5]]) = 2081880.000\n",
      "Generation >13, new best Born and Survive f([[3, 6, 1, 4, 8, 7, 2], [3, 1, 6, 3, 6, 2]]) = 2094154.000\n",
      "Generation >14, new best Born and Survive f([[6, 2, 6], [3, 4, 4, 2, 5, 7]]) = 2197876.000\n",
      "Generation >14, new best Born and Survive f([[3, 4, 3, 5, 3, 3, 8], [3, 3, 7]]) = 2209202.000\n",
      "Generation >14, new best Born and Survive f([[6, 2, 6], [3, 4, 4, 2, 5, 7]]) = 2222733.000\n",
      "Generation >15, new best Born and Survive f([[3, 2, 3, 4, 6, 4, 7], [3, 8, 6, 3, 6, 7]]) = 2320594.000\n",
      "Generation >15, new best Born and Survive f([[6, 4, 6], [3, 3, 8]]) = 2413651.000\n",
      "Generation >15, new best Born and Survive f([[3, 2, 3, 4, 6, 4, 7], [3, 8, 6, 3, 6, 7]]) = 2426441.000\n",
      "Generation >16, new best Born and Survive f([[6, 5, 7], [3, 8, 5, 7, 7, 4]]) = 2848795.000\n",
      "Generation >16, new best Born and Survive f([[3, 7, 1, 6, 5, 7, 2], [3, 8, 5]]) = 2859912.000\n",
      "Generation >16, new best Born and Survive f([[6, 5, 7], [3, 8, 5, 7, 7, 4]]) = 2870179.000\n",
      "Generation >17, new best Born and Survive f([[3, 1, 5, 7, 2, 8, 2], [3, 6, 6, 4, 6, 5]]) = 2957139.000\n",
      "Generation >17, new best Born and Survive f([[6, 8, 2], [3, 2, 7]]) = 2967950.000\n",
      "Generation >17, new best Born and Survive f([[3, 1, 5, 7, 2, 8, 2], [3, 6, 6, 4, 6, 5]]) = 2979775.000\n",
      "Generation >18, new best Born and Survive f([[6, 7, 8], [3, 5, 5, 3, 4, 3]]) = 3068511.000\n",
      "Generation >18, new best Born and Survive f([[3, 3, 8, 4, 3, 6, 2], [3, 8, 6]]) = 3172224.000\n",
      "Generation >18, new best Born and Survive f([[6, 7, 8], [3, 5, 5, 3, 4, 3]]) = 3182910.000\n",
      "Generation >19, new best Born and Survive f([[3, 4, 7, 5, 3, 4, 6], [3, 5, 3, 6, 8, 5]]) = 3642219.000\n",
      "Generation >19, new best Born and Survive f([[6, 4, 7], [3, 2, 3]]) = 3654274.000\n",
      "Generation >19, new best Born and Survive f([[3, 4, 7, 5, 3, 4, 6], [3, 5, 3, 6, 8, 5]]) = 3664651.000\n",
      "Generation >20, new best Born and Survive f([[6, 7, 1], [3, 8, 7, 7, 2, 7]]) = 3754741.000\n",
      "Generation >20, new best Born and Survive f([[3, 3, 5, 3, 4, 8, 6], [3, 4, 3]]) = 3767840.000\n",
      "Generation >20, new best Born and Survive f([[6, 7, 1], [3, 8, 7, 7, 2, 7]]) = 3778518.000\n",
      "Generation >21, new best Born and Survive f([[3, 7, 7, 8, 7, 1, 4], [3, 5, 3, 4, 7, 2]]) = 3873428.000\n",
      "Generation >21, new best Born and Survive f([[6, 4, 6], [3, 8, 8]]) = 3966805.000\n",
      "Generation >21, new best Born and Survive f([[3, 7, 7, 8, 7, 1, 4], [3, 5, 3, 4, 7, 2]]) = 3977805.000\n",
      "Generation >22, new best Born and Survive f([[6, 2, 1], [3, 5, 5, 1, 7, 7]]) = 4410277.000\n",
      "Generation >22, new best Born and Survive f([[3, 8, 4, 2, 5, 8, 7], [3, 4, 2]]) = 4421984.000\n",
      "Generation >22, new best Born and Survive f([[6, 2, 1], [3, 5, 5, 1, 7, 7]]) = 4448973.000\n",
      "Generation >23, new best Born and Survive f([[3, 1, 5, 8, 1, 5, 3], [3, 7, 8, 6, 3, 3]]) = 4589345.000\n",
      "Generation >23, new best Born and Survive f([[6, 7, 4], [3, 1, 7]]) = 4601437.000\n",
      "Generation >23, new best Born and Survive f([[3, 1, 5, 8, 1, 5, 3], [3, 7, 8, 6, 3, 3]]) = 4613281.000\n",
      "Generation >24, new best Born and Survive f([[6, 5, 4], [3, 6, 7, 5, 5, 7]]) = 4710353.000\n",
      "Generation >24, new best Born and Survive f([[3, 1, 7, 7, 4, 1, 3], [3, 3, 2]]) = 4724118.000\n",
      "Generation >24, new best Born and Survive f([[6, 5, 4], [3, 6, 7, 5, 5, 7]]) = 4737186.000\n",
      "Generation >25, new best Born and Survive f([[3, 3, 6, 1, 6, 6, 2], [3, 7, 2, 5, 5, 8]]) = 4842615.000\n",
      "Generation >25, new best Born and Survive f([[6, 1, 5], [3, 2, 7]]) = 4855376.000\n",
      "Generation >25, new best Born and Survive f([[3, 3, 6, 1, 6, 6, 2], [3, 7, 2, 5, 5, 8]]) = 4866559.000\n",
      "Generation >26, new best Born and Survive f([[6, 6, 1], [3, 6, 1, 3, 2, 1]]) = 4961819.000\n",
      "Generation >26, new best Born and Survive f([[3, 3, 8, 8, 3, 6, 3], [3, 6, 8]]) = 5019330.000\n",
      "Generation >26, new best Born and Survive f([[6, 6, 1], [3, 6, 1, 3, 2, 1]]) = 5030314.000\n",
      "Generation >27, new best Born and Survive f([[3, 4, 8, 4, 8, 7, 5], [3, 1, 8, 1, 8, 1]]) = 5305279.000\n",
      "Generation >27, new best Born and Survive f([[6, 5, 2], [3, 4, 6]]) = 5318402.000\n",
      "Generation >27, new best Born and Survive f([[3, 4, 8, 4, 8, 7, 5], [3, 1, 8, 1, 8, 1]]) = 5329663.000\n",
      "Generation >28, new best Born and Survive f([[6, 3, 8], [3, 8, 1, 8, 2, 2]]) = 5435901.000\n",
      "Generation >28, new best Born and Survive f([[3, 4, 3, 5, 6, 1, 5], [3, 4, 2]]) = 5447551.000\n",
      "Generation >28, new best Born and Survive f([[6, 3, 8], [3, 8, 1, 8, 2, 2]]) = 5467473.000\n",
      "Generation >29, new best Born and Survive f([[3, 8, 3, 7, 8, 6, 2], [3, 8, 4, 6, 4, 5]]) = 5584672.000\n",
      "Generation >29, new best Born and Survive f([[6, 4, 4], [3, 2, 7]]) = 5596602.000\n",
      "Generation >29, new best Born and Survive f([[3, 8, 3, 7, 8, 6, 2], [3, 8, 4, 6, 4, 5]]) = 5607735.000\n",
      "Generation >30, new best Born and Survive f([[6, 2, 6], [3, 4, 1, 3, 8, 3]]) = 5795660.000\n",
      "Generation >30, new best Born and Survive f([[3, 5, 5, 3, 2, 7, 1], [3, 5, 8]]) = 5808724.000\n",
      "Generation >30, new best Born and Survive f([[6, 2, 6], [3, 4, 1, 3, 8, 3]]) = 5915590.000\n",
      "Generation >31, new best Born and Survive f([[3, 5, 4, 3, 8, 4, 8], [3, 1, 3, 4, 1, 1]]) = 6300942.000\n",
      "Generation >31, new best Born and Survive f([[6, 1, 3], [3, 4, 6]]) = 6411461.000\n",
      "Generation >31, new best Born and Survive f([[3, 5, 4, 3, 8, 4, 8], [3, 1, 3, 4, 1, 1]]) = 6424792.000\n",
      "Generation >32, new best Born and Survive f([[6, 4, 2], [3, 2, 3, 8, 2, 2]]) = 7011196.000\n",
      "Generation >32, new best Born and Survive f([[3, 4, 2, 5, 8, 2, 2], [3, 2, 1]]) = 7022977.000\n",
      "Generation >32, new best Born and Survive f([[6, 4, 2], [3, 2, 3, 8, 2, 2]]) = 7129723.000\n",
      "Generation >33, new best Born and Survive f([[3, 1, 3, 1, 2, 2, 6], [3, 7, 1, 3, 3, 7]]) = 7519599.000\n",
      "Generation >33, new best Born and Survive f([[6, 4, 4], [3, 2, 1]]) = 7593262.000\n",
      "Generation >33, new best Born and Survive f([[3, 1, 3, 1, 2, 2, 6], [3, 7, 1, 3, 3, 7]]) = 7614675.000\n",
      "Generation >34, new best Born and Survive f([[6, 3, 7], [3, 4, 1, 1, 1, 5]]) = 7987039.000\n",
      "Generation >34, new best Born and Survive f([[3, 8, 2, 6, 8, 7, 2], [3, 2, 3]]) = 7998489.000\n",
      "Generation >34, new best Born and Survive f([[6, 3, 7], [3, 4, 1, 1, 1, 5]]) = 8011671.000\n",
      "Generation >35, new best Born and Survive f([[3, 1, 4, 1, 2, 8, 4], [3, 7, 4, 1, 3, 3]]) = 8121808.000\n",
      "Generation >35, new best Born and Survive f([[6, 4, 6], [3, 7, 5]]) = 8134961.000\n",
      "Generation >35, new best Born and Survive f([[3, 1, 4, 1, 2, 8, 4], [3, 7, 4, 1, 3, 3]]) = 8159778.000\n",
      "Generation >36, new best Born and Survive f([[6, 1, 5], [3, 6, 6, 1, 4, 1]]) = 8299619.000\n",
      "Generation >36, new best Born and Survive f([[3, 6, 4, 4, 2, 7, 3], [3, 6, 2]]) = 8312629.000\n",
      "Generation >36, new best Born and Survive f([[6, 1, 5], [3, 6, 6, 1, 4, 1]]) = 8325531.000\n",
      "Generation >37, new best Born and Survive f([[3, 6, 1, 6, 2, 1, 5], [3, 2, 8, 4, 7, 3]]) = 8427433.000\n",
      "Generation >37, new best Born and Survive f([[6, 8, 2], [3, 2, 3]]) = 8438196.000\n",
      "Generation >37, new best Born and Survive f([[3, 6, 1, 6, 2, 1, 5], [3, 2, 8, 4, 7, 3]]) = 8449200.000\n",
      "Generation >38, new best Born and Survive f([[6, 5, 3], [3, 1, 3, 8, 4, 2]]) = 8552150.000\n",
      "Generation >38, new best Born and Survive f([[3, 1, 5, 3, 7, 1, 6], [3, 2, 2]]) = 8566031.000\n",
      "Generation >38, new best Born and Survive f([[6, 5, 3], [3, 1, 3, 8, 4, 2]]) = 8592863.000\n",
      "Generation >39, new best Born and Survive f([[3, 6, 5, 1, 5, 5, 2], [3, 4, 3, 1, 1, 4]]) = 8741692.000\n",
      "Generation >39, new best Born and Survive f([[6, 8, 6], [3, 8, 4]]) = 8834813.000\n",
      "Generation >39, new best Born and Survive f([[3, 6, 5, 1, 5, 5, 2], [3, 4, 3, 1, 1, 4]]) = 8847475.000\n",
      "^C\n"
     ]
    }
   ],
   "source": [
    "!python EC.py 10 50 10 3"
   ]
  },
  {
   "cell_type": "code",
   "execution_count": null,
   "metadata": {
    "id": "fLQ1By-Ixv9J"
   },
   "outputs": [],
   "source": []
  }
 ],
 "metadata": {
  "colab": {
   "provenance": []
  },
  "kernelspec": {
   "display_name": "Python 3 (ipykernel)",
   "language": "python",
   "name": "python3"
  },
  "language_info": {
   "codemirror_mode": {
    "name": "ipython",
    "version": 3
   },
   "file_extension": ".py",
   "mimetype": "text/x-python",
   "name": "python",
   "nbconvert_exporter": "python",
   "pygments_lexer": "ipython3",
   "version": "3.10.6"
  }
 },
 "nbformat": 4,
 "nbformat_minor": 1
}
