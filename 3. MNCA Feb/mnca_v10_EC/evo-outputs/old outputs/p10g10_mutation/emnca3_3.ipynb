{
  "nbformat": 4,
  "nbformat_minor": 0,
  "metadata": {
    "colab": {
      "provenance": []
    },
    "kernelspec": {
      "name": "python3",
      "display_name": "Python 3"
    },
    "language_info": {
      "name": "python"
    }
  },
  "cells": [
    {
      "cell_type": "code",
      "execution_count": 3,
      "metadata": {
        "id": "4oS-ZT30ad4Z",
        "colab": {
          "base_uri": "https://localhost:8080/"
        },
        "outputId": "2fcdfd27-6ad5-42d7-9d39-2fc62bd48917"
      },
      "outputs": [
        {
          "output_type": "stream",
          "name": "stdout",
          "text": [
            "Looking in indexes: https://pypi.org/simple, https://us-python.pkg.dev/colab-wheels/public/simple/\n",
            "Requirement already satisfied: deflate in /usr/local/lib/python3.8/dist-packages (0.3.0)\n"
          ]
        }
      ],
      "source": [
        "!sudo pip install deflate"
      ]
    },
    {
      "cell_type": "code",
      "source": [
        "!python3 EC.py"
      ],
      "metadata": {
        "id": "l8rjEJvIbsC8",
        "colab": {
          "base_uri": "https://localhost:8080/"
        },
        "outputId": "e3ba00ae-02b4-44b9-a873-9dcc0b6c0e95"
      },
      "execution_count": 4,
      "outputs": [
        {
          "output_type": "stream",
          "name": "stdout",
          "text": [
            "Generation: 0, Iteration 0, New Best Found Rule set [[(0.639, 0.805, 0), (0.197, 0.401, 0), (0.031, 0.669, 1)], [(0.851, 0.997, 0), (0.361, 0.773, 0), (0.706, 0.725, 0)], [(0.835, 0.956, 0), (0.327, 0.749, 0), (0.898, 0.967, 0)]]\n",
            "Generation: 0, Iteration 1, New Best Found Rule set [[(0.343, 0.961, 1), (0.031, 0.739, 1), (0.454, 0.528, 0)], [(0.522, 0.576, 1), (0.505, 0.86, 1), (0.504, 0.728, 0)], [(0.776, 0.809, 1), (0.626, 0.739, 1), (0.294, 0.646, 0)]]\n",
            "Generation: 0, Iteration 2, New Best Found Rule set [[(0.617, 0.624, 1), (0.709, 0.933, 0), (0.993, 0.994, 1)], [(0.6, 0.971, 0), (0.193, 0.892, 1), (0.945, 0.981, 0)], [(0.612, 0.853, 0), (0.679, 0.703, 1), (0.233, 0.887, 0)]]\n",
            "Generation: 0, Iteration 3, New Best Found Rule set [[(0.639, 0.805, 0), (0.197, 0.401, 0), (0.031, 0.669, 1)], [(0.851, 0.997, 0), (0.361, 0.773, 0), (0.706, 0.725, 0)], [(0.835, 0.956, 0), (0.327, 0.749, 0), (0.898, 0.967, 0)]]\n",
            "Generation: 0, Iteration 4, New Best Found Rule set [[(0.222, 0.653, 0), (0.951, 0.976, 0), (0.237, 0.412, 1)], [(0.176, 0.94, 1), (0.07, 0.429, 0), (0.97, 0.983, 1)], [(0.42, 0.694, 0), (0.404, 0.795, 1), (0.281, 0.93, 1)]]\n",
            "Generation: 1, Iteration 0, New Best Found Rule set [[(0.639, 0.805, 0), (0.197, 0.401, 0), (0.031, 0.669, 1)], [(0.851, 0.997, 0), (0.361, 0.773, 0), (0.706, 0.725, 0)], [(0.835, 0.956, 0), (0.327, 0.749, 0), (0.898, 0.967, 0)]]\n",
            "Generation: 1, Iteration 1, New Best Found Rule set [[(0.639, 0.805, 0), (0.197, 0.401, 0), (0.031, 0.669, 1)], [(0.851, 0.997, 0), (0.361, 0.773, 0), (0.706, 0.725, 0)], [(0.835, 0.956, 0), (0.327, 0.749, 0), (0.898, 0.967, 0)]]\n",
            "Generation: 1, Iteration 2, New Best Found Rule set [[(0.639, 0.805, 0), (0.197, 0.401, 0), (0.031, 0.669, 1)], [(0.851, 0.997, 0), (0.361, 0.773, 0), (0.706, 0.725, 0)], [(0.835, 0.956, 0), (0.327, 0.749, 0), (0.898, 0.967, 0)]]\n",
            "Generation: 1, Iteration 3, New Best Found Rule set [[(0.197, 0.401, 0), (0.031, 0.669, 1)], [(0.851, 0.997, 0), (0.706, 0.725, 0)], [(0.835, 0.956, 0), (0.327, 0.749, 0), (0.898, 0.967, 0)]]\n",
            "Generation: 1, Iteration 4, New Best Found Rule set [[(0.222, 0.653, 0), (0.951, 0.976, 0), (0.237, 0.412, 1)], [(0.176, 0.94, 1), (0.07, 0.429, 0), (0.97, 0.983, 1)], [(0.42, 0.694, 0), (0.404, 0.795, 1), (0.281, 0.93, 1)]]\n",
            "Generation: 2, Iteration 0, New Best Found Rule set [[(0.197, 0.401, 0), (0.031, 0.669, 1)], [(0.851, 0.997, 0), (0.706, 0.725, 0)], [(0.835, 0.956, 0), (0.327, 0.749, 0), (0.898, 0.967, 0)]]\n",
            "Generation: 2, Iteration 1, New Best Found Rule set [[(0.197, 0.401, 0), (0.031, 0.669, 1)], [(0.851, 0.997, 0), (0.706, 0.725, 0)], [(0.835, 0.956, 0), (0.43, 0.962, 1), (0.898, 0.967, 0)]]\n",
            "Generation: 2, Iteration 2, New Best Found Rule set [[(0.197, 0.401, 0), (0.031, 0.669, 1)], [(0.851, 0.997, 0), (0.706, 0.725, 0)], [(0.835, 0.956, 0), (0.43, 0.962, 1), (0.898, 0.967, 0)]]\n",
            "Generation: 2, Iteration 3, New Best Found Rule set [[(0.197, 0.401, 0), (0.031, 0.669, 1)], [(0.851, 0.997, 0), (0.706, 0.725, 0)], [(0.835, 0.956, 0), (0.43, 0.962, 1), (0.898, 0.967, 0)]]\n",
            "Generation: 2, Iteration 4, New Best Found Rule set [[(0.197, 0.401, 0)], [(0.851, 0.997, 0), (0.706, 0.725, 0)], [(0.835, 0.956, 0), (0.43, 0.962, 1), (0.898, 0.967, 0)]]\n",
            "Generation: 3, Iteration 0, New Best Found Rule set [[(0.197, 0.401, 0)], [(0.851, 0.997, 0), (0.706, 0.725, 0)], [(0.835, 0.956, 0), (0.43, 0.962, 1), (0.898, 0.967, 0)]]\n",
            "Generation: 3, Iteration 1, New Best Found Rule set [[(0.197, 0.401, 0)], [(0.851, 0.997, 0), (0.89, 0.966, 0)], [(0.835, 0.956, 0), (0.43, 0.962, 1), (0.898, 0.967, 0)]]\n",
            "Generation: 3, Iteration 2, New Best Found Rule set [[(0.197, 0.401, 0)], [(0.851, 0.997, 0), (0.89, 0.966, 0)], [(0.835, 0.956, 0), (0.43, 0.962, 1), (0.898, 0.967, 0)]]\n",
            "Generation: 3, Iteration 3, New Best Found Rule set [[(0.197, 0.401, 0)], [(0.851, 0.997, 0), (0.89, 0.966, 0)], [(0.835, 0.956, 0), (0.43, 0.962, 1), (0.898, 0.967, 0)]]\n",
            "Generation: 3, Iteration 4, New Best Found Rule set [[(0.197, 0.401, 0)], [(0.851, 0.997, 0), (0.89, 0.966, 0)], [(0.835, 0.956, 0), (0.43, 0.962, 1), (0.898, 0.967, 0)]]\n",
            "Generation: 4, Iteration 0, New Best Found Rule set [[(0.197, 0.401, 0)], [(0.851, 0.997, 0), (0.89, 0.966, 0)], [(0.835, 0.956, 0), (0.43, 0.962, 1), (0.898, 0.967, 0)]]\n",
            "Generation: 4, Iteration 1, New Best Found Rule set [[(0.197, 0.401, 0)], [(0.851, 0.997, 0), (0.89, 0.966, 0)], [(0.835, 0.956, 0), (0.43, 0.962, 1), (0.898, 0.967, 0)]]\n",
            "Generation: 4, Iteration 2, New Best Found Rule set [[(0.197, 0.401, 0)], [(0.851, 0.997, 0), (0.89, 0.966, 0)], [(0.835, 0.956, 0), (0.43, 0.962, 1), (0.898, 0.967, 0)]]\n",
            "Generation: 4, Iteration 3, New Best Found Rule set [[(0.197, 0.401, 0)], [(0.851, 0.997, 0), (0.89, 0.966, 0)], [(0.835, 0.956, 0), (0.43, 0.962, 1), (0.898, 0.967, 0)]]\n",
            "Generation: 4, Iteration 4, New Best Found Rule set [[(0.197, 0.401, 0)], [(0.851, 0.997, 0), (0.89, 0.966, 0)], [(0.835, 0.956, 0), (0.43, 0.962, 1), (0.898, 0.967, 0)]]\n",
            "Generation: 5, Iteration 0, New Best Found Rule set [[(0.197, 0.401, 0)], [(0.851, 0.997, 0), (0.89, 0.966, 0)], [(0.835, 0.956, 0), (0.43, 0.962, 1), (0.898, 0.967, 0)]]\n",
            "Generation: 5, Iteration 1, New Best Found Rule set [[(0.197, 0.401, 0)], [(0.851, 0.997, 0), (0.89, 0.966, 0)], [(0.835, 0.956, 0), (0.43, 0.962, 1), (0.898, 0.967, 0)]]\n",
            "Generation: 5, Iteration 2, New Best Found Rule set [[], [(0.851, 0.997, 0), (0.89, 0.966, 0)], [(0.835, 0.956, 0), (0.43, 0.962, 1), (0.898, 0.967, 0)]]\n",
            "Generation: 5, Iteration 3, New Best Found Rule set [[], [(0.851, 0.997, 0), (0.89, 0.966, 0)], [(0.835, 0.956, 0), (0.43, 0.962, 1), (0.898, 0.967, 0)]]\n",
            "Generation: 5, Iteration 4, New Best Found Rule set [[], [(0.851, 0.997, 0)], [(0.43, 0.962, 1), (0.898, 0.967, 0)]]\n",
            "Generation: 6, Iteration 0, New Best Found Rule set [[], [(0.851, 0.997, 0)], [(0.43, 0.962, 1), (0.898, 0.967, 0)]]\n",
            "Generation: 6, Iteration 1, New Best Found Rule set [[], [(0.851, 0.997, 0)], [(0.43, 0.962, 1), (0.898, 0.967, 0)]]\n",
            "Generation: 6, Iteration 2, New Best Found Rule set [[], [(0.851, 0.997, 0)], [(0.43, 0.962, 1), (0.898, 0.967, 0)]]\n",
            "Generation: 6, Iteration 3, New Best Found Rule set [[], [(0.851, 0.997, 0)], [(0.43, 0.962, 1), (0.898, 0.967, 0)]]\n",
            "Generation: 6, Iteration 4, New Best Found Rule set [[], [(0.851, 0.997, 0)], [(0.43, 0.962, 1), (0.898, 0.967, 0)]]\n",
            "Generation: 7, Iteration 0, New Best Found Rule set [[], [(0.851, 0.997, 0)], [(0.042, 0.586, 0), (0.898, 0.967, 0)]]\n",
            "Generation: 7, Iteration 1, New Best Found Rule set [[], [(0.851, 0.997, 0)], [(0.042, 0.586, 0), (0.898, 0.967, 0)]]\n",
            "Generation: 7, Iteration 2, New Best Found Rule set [[], [(0.851, 0.997, 0)], [(0.042, 0.586, 0), (0.898, 0.967, 0)]]\n",
            "Generation: 7, Iteration 3, New Best Found Rule set [[], [(0.851, 0.997, 0)], [(0.042, 0.586, 0), (0.898, 0.967, 0)]]\n",
            "Generation: 7, Iteration 4, New Best Found Rule set [[], [(0.851, 0.997, 0)], [(0.042, 0.586, 0), (0.898, 0.967, 0)]]\n",
            "Generation: 8, Iteration 0, New Best Found Rule set [[], [(0.851, 0.997, 0)], [(0.042, 0.586, 0), (0.898, 0.967, 0)]]\n",
            "Generation: 8, Iteration 1, New Best Found Rule set [[], [(0.851, 0.997, 0)], [(0.042, 0.586, 0), (0.898, 0.967, 0)]]\n",
            "Generation: 8, Iteration 2, New Best Found Rule set [[], [(0.851, 0.997, 0)], [(0.042, 0.586, 0), (0.898, 0.967, 0)]]\n",
            "Generation: 8, Iteration 3, New Best Found Rule set [[], [(0.851, 0.997, 0)], [(0.042, 0.586, 0)]]\n",
            "Generation: 8, Iteration 4, New Best Found Rule set [[], [(0.851, 0.997, 0)], [(0.042, 0.586, 0)]]\n",
            "Generation: 9, Iteration 0, New Best Found Rule set [[], [(0.851, 0.997, 0)], [(0.042, 0.586, 0)]]\n",
            "Generation: 9, Iteration 1, New Best Found Rule set [[], [(0.851, 0.997, 0)], [(0.042, 0.586, 0)]]\n",
            "Generation: 9, Iteration 2, New Best Found Rule set [[], [(0.851, 0.997, 0)], [(0.042, 0.586, 0)]]\n",
            "Generation: 9, Iteration 3, New Best Found Rule set [[], [(0.851, 0.997, 0)], [(0.042, 0.586, 0)]]\n",
            "Generation: 9, Iteration 4, New Best Found Rule set [[], [(0.851, 0.997, 0)], [(0.397, 0.57, 1)]]\n",
            "FINAL BEST CHROMOSOME IS: [[], [(0.851, 0.997, 0)], [(0.397, 0.57, 1)]]\n"
          ]
        }
      ]
    },
    {
      "cell_type": "code",
      "source": [],
      "metadata": {
        "id": "kso7JgYrb6Yz"
      },
      "execution_count": null,
      "outputs": []
    }
  ]
}