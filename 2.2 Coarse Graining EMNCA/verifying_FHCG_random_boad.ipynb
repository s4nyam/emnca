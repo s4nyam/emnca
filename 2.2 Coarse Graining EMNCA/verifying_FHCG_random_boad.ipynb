{
  "nbformat": 4,
  "nbformat_minor": 0,
  "metadata": {
    "colab": {
      "provenance": []
    },
    "kernelspec": {
      "name": "python3",
      "display_name": "Python 3"
    },
    "language_info": {
      "name": "python"
    }
  },
  "cells": [
    {
      "cell_type": "code",
      "execution_count": 36,
      "metadata": {
        "id": "G0-ClmEEBCMN"
      },
      "outputs": [],
      "source": [
        "\n",
        "import random\n",
        "import sys\n",
        "import numpy as np\n",
        "np.set_printoptions(threshold=sys.maxsize)\n",
        "\n",
        "\n",
        "board_array = np.zeros((100,100), 'int')\n",
        "\n",
        "\n",
        "for i in range (2000):\n",
        "    randominteger1 = random.randint(1,99)\n",
        "    randominteger2 = random.randint(1,99)\n",
        "    board_array[randominteger1,randominteger2] = 1\n",
        "\n",
        "# print(board_array)    \n",
        "def blockshaped(arr, nrows, ncols):\n",
        "    \n",
        "    h, w = arr.shape\n",
        "    assert h % nrows == 0, f\"{h} rows is not evenly divisible by {nrows}\"\n",
        "    assert w % ncols == 0, f\"{w} cols is not evenly divisible by {ncols}\"\n",
        "    return (arr.reshape(h//nrows, nrows, -1, ncols)\n",
        "               .swapaxes(1,2)\n",
        "               .reshape(-1, nrows, ncols))\n",
        "\n",
        "\n",
        "def FrequencyHistogram(array):\n",
        "    # Let us split NxN array to smaller 2x2 blcks\n",
        "    super_cells_list =  []\n",
        "    new_board = []\n",
        "    threshold1 = 0.05\n",
        "    # threshold2 = 0.06 # For multi state MNCA\n",
        "    array = blockshaped(array,2,2)\n",
        "    for each_sub_array in array:\n",
        "        super_cells_list.append(list(each_sub_array.flatten()))\n",
        "    for i in range(len(super_cells_list)):\n",
        "        count = 0\n",
        "        for j in range(len(super_cells_list)):\n",
        "            if(super_cells_list[i]==super_cells_list[j]):\n",
        "                count = count+1 # count is the number of blocks matching in grid.\n",
        "        new_board.append(count/len(super_cells_list))\n",
        "    for i in range(len(new_board)):\n",
        "        if(new_board[i] < threshold1):\n",
        "            new_board[i] = 1\n",
        "        else: \n",
        "            # new_board[i] >= threshold1):\n",
        "            new_board[i] = 0\n",
        "            \n",
        "    modified_board = np.array(new_board)\n",
        "    shape = int(np.sqrt(len(new_board)))\n",
        "    # print(shape)\n",
        "    modified_board = modified_board.reshape(shape,shape)\n",
        "    return modified_board\n",
        "\n",
        "# print(FrequencyHistogram(board_array))"
      ]
    },
    {
      "cell_type": "code",
      "source": [
        "board_array.shape"
      ],
      "metadata": {
        "colab": {
          "base_uri": "https://localhost:8080/"
        },
        "outputId": "9be1fd14-e887-4f59-b2f1-b1464fdd55c0",
        "id": "eeR3gWOJBCMO"
      },
      "execution_count": 37,
      "outputs": [
        {
          "output_type": "execute_result",
          "data": {
            "text/plain": [
              "(100, 100)"
            ]
          },
          "metadata": {},
          "execution_count": 37
        }
      ]
    },
    {
      "cell_type": "code",
      "source": [
        "print(FrequencyHistogram(board_array).shape)"
      ],
      "metadata": {
        "colab": {
          "base_uri": "https://localhost:8080/"
        },
        "outputId": "08870065-96e6-411a-a42b-6b44d92f2350",
        "id": "x3vWQP0SBCMP"
      },
      "execution_count": 38,
      "outputs": [
        {
          "output_type": "stream",
          "name": "stdout",
          "text": [
            "(50, 50)\n"
          ]
        }
      ]
    },
    {
      "cell_type": "code",
      "source": [
        "import matplotlib.pyplot as plt\n",
        "\n",
        "plt.imshow(board_array)"
      ],
      "metadata": {
        "colab": {
          "base_uri": "https://localhost:8080/",
          "height": 450
        },
        "outputId": "f74d5023-a018-4f5d-d502-0d6f6459406e",
        "id": "o4fGJSg6BCMP"
      },
      "execution_count": 39,
      "outputs": [
        {
          "output_type": "execute_result",
          "data": {
            "text/plain": [
              "<matplotlib.image.AxesImage at 0x7f21cc87e070>"
            ]
          },
          "metadata": {},
          "execution_count": 39
        },
        {
          "output_type": "display_data",
          "data": {
            "text/plain": [
              "<Figure size 640x480 with 1 Axes>"
            ],
            "image/png": "[encoded data removed]"
          },
          "metadata": {}
        }
      ]
    },
    {
      "cell_type": "code",
      "source": [
        "\n",
        "plt.imshow(FrequencyHistogram(board_array))"
      ],
      "metadata": {
        "colab": {
          "base_uri": "https://localhost:8080/",
          "height": 449
        },
        "outputId": "ee664470-7b22-47a5-f4bd-133e4886d54d",
        "id": "i46_WVhhBCMQ"
      },
      "execution_count": 40,
      "outputs": [
        {
          "output_type": "execute_result",
          "data": {
            "text/plain": [
              "<matplotlib.image.AxesImage at 0x7f21cc7ea3a0>"
            ]
          },
          "metadata": {},
          "execution_count": 40
        },
        {
          "output_type": "display_data",
          "data": {
            "text/plain": [
              "<Figure size 640x480 with 1 Axes>"
            ],
            "image/png": "[encoded data removed]"
          },
          "metadata": {}
        }
      ]
    },
    {
      "cell_type": "code",
      "source": [],
      "metadata": {
        "id": "u-CNLn0KBFU1"
      },
      "execution_count": 40,
      "outputs": []
    }
  ]
}