{
  "nbformat": 4,
  "nbformat_minor": 0,
  "metadata": {
    "colab": {
      "provenance": []
    },
    "kernelspec": {
      "name": "python3",
      "display_name": "Python 3"
    },
    "language_info": {
      "name": "python"
    }
  },
  "cells": [
    {
      "cell_type": "code",
      "source": [
        "# Download gif\n",
        "!wget https://user-images.githubusercontent.com/13884479/227140405-a260098b-c151-4109-bd59-bf78e4952543.gif"
      ],
      "metadata": {
        "colab": {
          "base_uri": "https://localhost:8080/"
        },
        "id": "lAAyssVPB1LM",
        "outputId": "7191cc8c-8c97-42d5-ed8a-9d9d196fb470"
      },
      "execution_count": 1,
      "outputs": [
        {
          "output_type": "stream",
          "name": "stdout",
          "text": [
            "--2023-03-27 22:16:18--  https://user-images.githubusercontent.com/13884479/227140405-a260098b-c151-4109-bd59-bf78e4952543.gif\n",
            "Resolving user-images.githubusercontent.com (user-images.githubusercontent.com)... 185.199.109.133, 185.199.110.133, 185.199.111.133, ...\n",
            "Connecting to user-images.githubusercontent.com (user-images.githubusercontent.com)|185.199.109.133|:443... connected.\n",
            "HTTP request sent, awaiting response... 200 OK\n",
            "Length: 4724234 (4.5M) [image/gif]\n",
            "Saving to: ‘227140405-a260098b-c151-4109-bd59-bf78e4952543.gif’\n",
            "\n",
            "\r          227140405   0%[                    ]       0  --.-KB/s               \r227140405-a260098b- 100%[===================>]   4.50M  --.-KB/s    in 0.02s   \n",
            "\n",
            "2023-03-27 22:16:18 (200 MB/s) - ‘227140405-a260098b-c151-4109-bd59-bf78e4952543.gif’ saved [4724234/4724234]\n",
            "\n"
          ]
        }
      ]
    },
    {
      "cell_type": "code",
      "source": [
        "!mv *.gif file.gif"
      ],
      "metadata": {
        "id": "fpFWX8_GCTNf"
      },
      "execution_count": 2,
      "outputs": []
    },
    {
      "cell_type": "code",
      "execution_count": 3,
      "metadata": {
        "id": "n1FFxYz3Bx0P"
      },
      "outputs": [],
      "source": [
        "import imageio\n",
        "from PIL import Image\n",
        "import numpy as np\n",
        "\n",
        "def coarse_grain_gif(input_path, output_path, factor):\n",
        "    # Load the input GIF\n",
        "    reader = imageio.get_reader(input_path)\n",
        "\n",
        "    # Loop through each frame of the GIF\n",
        "    frames = []\n",
        "    for frame in reader:\n",
        "        # Resize the frame to a lower resolution using the Pillow resize method\n",
        "        img = Image.fromarray(frame)\n",
        "        width, height = img.size\n",
        "        new_width, new_height = int(width / factor), int(height / factor)\n",
        "        resized_img = img.resize((new_width, new_height))\n",
        "\n",
        "        # Add the resized frame to a new list of frames\n",
        "        frames.append(resized_img)\n",
        "\n",
        "    # Create a new GIF using the resized frames\n",
        "    writer = imageio.get_writer(output_path)\n",
        "\n",
        "    for frame in frames:\n",
        "        # Convert the resized frame back to a NumPy array\n",
        "        frame_array = np.array(frame.convert('RGB').resize((width, height)))\n",
        "\n",
        "        writer.append_data(frame_array)\n",
        "\n",
        "    writer.close()\n"
      ]
    },
    {
      "cell_type": "code",
      "source": [
        "coarse_grain_gif('file.gif', 'output.gif', 2)\n"
      ],
      "metadata": {
        "id": "3KxnBKqvCg0V"
      },
      "execution_count": 4,
      "outputs": []
    },
    {
      "cell_type": "code",
      "source": [],
      "metadata": {
        "id": "gU4XbzCwICme"
      },
      "execution_count": 4,
      "outputs": []
    },
    {
      "cell_type": "code",
      "source": [],
      "metadata": {
        "id": "jsH1T8z2ICkV"
      },
      "execution_count": 4,
      "outputs": []
    },
    {
      "cell_type": "code",
      "source": [],
      "metadata": {
        "id": "xlQMOju-ICiP"
      },
      "execution_count": 4,
      "outputs": []
    },
    {
      "cell_type": "code",
      "source": [],
      "metadata": {
        "id": "JL1STfEBICgK"
      },
      "execution_count": 4,
      "outputs": []
    },
    {
      "cell_type": "code",
      "source": [],
      "metadata": {
        "id": "DeM2eWPKIPrN"
      },
      "execution_count": 4,
      "outputs": []
    }
  ]
}